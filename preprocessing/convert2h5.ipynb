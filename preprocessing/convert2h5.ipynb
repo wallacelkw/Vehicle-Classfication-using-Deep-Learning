{
 "cells": [
  {
   "cell_type": "code",
   "execution_count": 1,
   "metadata": {},
   "outputs": [],
   "source": [
    "import os\n",
    "import numpy as np\n",
    "import pandas as pd \n",
    "import shutil\n",
    "import cv2\n",
    "from PIL import Image\n",
    "from tqdm import tqdm \n",
    "import h5py"
   ]
  },
  {
   "cell_type": "code",
   "execution_count": 21,
   "metadata": {},
   "outputs": [],
   "source": [
    "path = r'C:\\Users\\kimwa\\Desktop\\MMU\\Computer Intellegience\\Project\\dataset'\n",
    "# Initialize empty lists to store the images and labels\n",
    "images = []\n",
    "labels = []\n",
    "\n",
    "# Loop through the subfolders in the dataset\n",
    "for subfolder in os.listdir(path):\n",
    "    subfolder_path = os.path.join(path, subfolder)\n",
    "    # Loop through the images in the subfolder\n",
    "    for image_file in os.listdir(subfolder_path):\n",
    "        # Load the image and add it to the images list\n",
    "        image = cv2.imread(os.path.join(subfolder_path, image_file))\n",
    "        image = cv2.resize(image,(224,224))\n",
    "        images.append(image)\n",
    "        # Add the label of the subfolder to the labels list\n",
    "        labels.append(subfolder)"
   ]
  },
  {
   "cell_type": "code",
   "execution_count": 34,
   "metadata": {},
   "outputs": [],
   "source": [
    "# Convert the images and labels lists to numpy arrays\n",
    "images_array = np.array(images)"
   ]
  },
  {
   "cell_type": "code",
   "execution_count": 35,
   "metadata": {
    "tags": []
   },
   "outputs": [],
   "source": [
    "for i in range(len(labels)):\n",
    "    mapping = [0, 1, 2, 3, 4, 5]\n",
    "    if labels[i] == 'bus':\n",
    "        labels[i] = int(mapping[0])\n",
    "    elif labels[i] == 'car':\n",
    "        labels[i] = int(mapping[1])\n",
    "    elif labels[i] == 'motocycle':\n",
    "        labels[i] = int(mapping[2])\n",
    "    elif labels[i] == 'pickup':\n",
    "        labels[i] = int(mapping[3])\n",
    "    elif labels[i] == 'truck':\n",
    "        labels[i] = int(mapping[4])\n",
    "    elif labels[i] == 'van':\n",
    "        labels[i] = int(mapping[5])"
   ]
  },
  {
   "cell_type": "code",
   "execution_count": 36,
   "metadata": {},
   "outputs": [],
   "source": [
    "labels_array = np.array(labels).astype(int)"
   ]
  },
  {
   "cell_type": "code",
   "execution_count": 38,
   "metadata": {},
   "outputs": [],
   "source": [
    "with h5py.File('machineLearning.h5', 'w') as h5file:\n",
    "    dataset = h5file.create_dataset(\"dataset\",data=images_array)\n",
    "    label = h5file.create_dataset(\"label\",data=labels_array)"
   ]
  }
 ],
 "metadata": {
  "kernelspec": {
   "display_name": "tf_venv",
   "language": "python",
   "name": "tf_venv"
  },
  "language_info": {
   "codemirror_mode": {
    "name": "ipython",
    "version": 3
   },
   "file_extension": ".py",
   "mimetype": "text/x-python",
   "name": "python",
   "nbconvert_exporter": "python",
   "pygments_lexer": "ipython3",
   "version": "3.9.15"
  },
  "vscode": {
   "interpreter": {
    "hash": "8757bda66c39dbf75442b7610b66bbede81953940c3ccd2be07d8c629e906369"
   }
  }
 },
 "nbformat": 4,
 "nbformat_minor": 4
}
