{
 "cells": [
  {
   "cell_type": "code",
   "execution_count": 15,
   "id": "85ba6905",
   "metadata": {},
   "outputs": [],
   "source": [
    "import os\n",
    "import pandas as pd\n",
    "import numpy as np\n",
    "import shutil\n",
    "from glob import glob\n",
    "from PIL import Image"
   ]
  },
  {
   "cell_type": "code",
   "execution_count": 16,
   "id": "e942ea6c",
   "metadata": {},
   "outputs": [],
   "source": [
    "# Convert into jpg images first\n",
    "destination = r\"C:\\Users\\kimwa\\Desktop\\MMU\\Computer Intellegience\\Project\\finalise_dataset\"\n",
    "if not os.path.exists(destination):\n",
    "   os.makedirs(destination)\n",
    "\n",
    "root = r'C:\\Users\\kimwa\\Desktop\\MMU\\Computer Intellegience\\Project\\dataset'\n",
    "for idx,name in enumerate(os.listdir(root)):\n",
    "    # get each classes location\n",
    "    eachFile = os.path.join(root,name)\n",
    "\n",
    "    # destination of image wanted to save\n",
    "    destination_class = os.path.join(destination,name)\n",
    "    if not os.path.exists(destination_class):\n",
    "        os.makedirs(destination_class)\n",
    "    \n",
    "    # loop each class to read and save to destination\n",
    "    for jdx,jname in enumerate(os.listdir(eachFile)):\n",
    "        images = os.path.join(eachFile,jname)\n",
    "        images_name = images.split(\"\\\\\")[-1].split(\".\")[0]\n",
    "        im = Image.open(images)\n",
    "        # convert to rgb because some of the images are RGBA \n",
    "        im = im.convert('RGB')\n",
    "        jpg_save_in_destination = os.path.join(destination_class,'{}.jpg'.format(images_name))\n",
    "        im.save(jpg_save_in_destination)"
   ]
  },
  {
   "cell_type": "code",
   "execution_count": null,
   "id": "f8605011",
   "metadata": {},
   "outputs": [],
   "source": []
  },
  {
   "cell_type": "code",
   "execution_count": 17,
   "id": "0ac56691-58b4-46f6-96a9-81e2f704bca0",
   "metadata": {},
   "outputs": [
    {
     "name": "stdout",
     "output_type": "stream",
     "text": [
      "C:\\Users\\kimwa\\Desktop\\MMU\\Computer Intellegience\\Project\\finalise_dataset/bus\n",
      "C:\\Users\\kimwa\\Desktop\\MMU\\Computer Intellegience\\Project\\finalise_dataset/car\n",
      "C:\\Users\\kimwa\\Desktop\\MMU\\Computer Intellegience\\Project\\finalise_dataset/motocycle\n",
      "C:\\Users\\kimwa\\Desktop\\MMU\\Computer Intellegience\\Project\\finalise_dataset/pickup\n",
      "C:\\Users\\kimwa\\Desktop\\MMU\\Computer Intellegience\\Project\\finalise_dataset/truck\n",
      "C:\\Users\\kimwa\\Desktop\\MMU\\Computer Intellegience\\Project\\finalise_dataset/van\n"
     ]
    }
   ],
   "source": [
    "# split the train,valid,test data for deep learining purpose\n",
    "rootdir= r'C:\\Users\\kimwa\\Desktop\\MMU\\Computer Intellegience\\Project\\finalise_dataset' #path of the original folder\n",
    "classes = ['bus', 'car', 'motocycle','pickup', 'truck', 'van']\n",
    "\n",
    "\n",
    "for i in classes:\n",
    "    os.makedirs(rootdir +'/Dataset/train/' + i)\n",
    "    os.makedirs(rootdir +'/Dataset/valid/' + i)\n",
    "    os.makedirs(rootdir +'/Dataset/test/' + i)\n",
    "    \n",
    "    source = rootdir + '/' + i\n",
    "    print(source)\n",
    "    allFileNames = os.listdir(source)\n",
    "    np.random.shuffle(allFileNames)\n",
    "    test_ratio = 0.20\n",
    "    train_FileNames, test_FileNames = np.split(np.array(allFileNames),\n",
    "                                                          [int(len(allFileNames)* (1 - test_ratio))])\n",
    "    \n",
    "    train_FileNames = [source+'/'+ name for name in train_FileNames.tolist()]\n",
    "    test_FileNames = [source+'/' + name for name in test_FileNames.tolist()]\n",
    "\n",
    "    for name in train_FileNames:\n",
    "        shutil.copy(name, rootdir +'/Dataset/train/' + i)\n",
    "\n",
    "    for name in test_FileNames:\n",
    "        shutil.copy(name, rootdir +'/Dataset/test/' + i)\n",
    "        \n",
    "    source2 = rootdir + '/Dataset/train/' + i\n",
    "    valid_ratio = 0.20\n",
    "    \n",
    "    allFileNames = os.listdir(source2)\n",
    "    train_FileNames, valid_FileNames = np.split(np.array(allFileNames),\n",
    "                                                          [int(len(allFileNames)* (1 - valid_ratio))])\n",
    "    valid_FileNames = [source+'/'+ name for name in valid_FileNames.tolist()]\n",
    "    \n",
    "    for name in valid_FileNames:\n",
    "        shutil.copy(name, rootdir +'/Dataset/valid/' + i)\n",
    "    "
   ]
  },
  {
   "cell_type": "code",
   "execution_count": 18,
   "id": "34ab83d2-1675-4fe0-8b16-f44d7c69fa38",
   "metadata": {},
   "outputs": [
    {
     "ename": "FileNotFoundError",
     "evalue": "[WinError 3] The system cannot find the path specified: 'c:\\\\Users\\\\kimwa\\\\Desktop\\\\MMU\\\\Computer Intellegience\\\\Project\\\\processing_backup\\\\finalise_dataset\\\\Dataset\\\\train'",
     "output_type": "error",
     "traceback": [
      "\u001b[1;31m---------------------------------------------------------------------------\u001b[0m",
      "\u001b[1;31mFileNotFoundError\u001b[0m                         Traceback (most recent call last)",
      "\u001b[1;32mc:\\Users\\kimwa\\Desktop\\MMU\\Computer Intellegience\\Project\\processing_backup\\train_test_split.ipynb Cell 5\u001b[0m in \u001b[0;36m<cell line: 3>\u001b[1;34m()\u001b[0m\n\u001b[0;32m      <a href='vscode-notebook-cell:/c%3A/Users/kimwa/Desktop/MMU/Computer%20Intellegience/Project/processing_backup/train_test_split.ipynb#W3sZmlsZQ%3D%3D?line=0'>1</a>\u001b[0m data_dir \u001b[39m=\u001b[39m os\u001b[39m.\u001b[39mpath\u001b[39m.\u001b[39mjoin(os\u001b[39m.\u001b[39mgetcwd(),\u001b[39m'\u001b[39m\u001b[39mfinalise_dataset\u001b[39m\u001b[39m'\u001b[39m,\u001b[39m'\u001b[39m\u001b[39mDataset\u001b[39m\u001b[39m'\u001b[39m)\n\u001b[1;32m----> <a href='vscode-notebook-cell:/c%3A/Users/kimwa/Desktop/MMU/Computer%20Intellegience/Project/processing_backup/train_test_split.ipynb#W3sZmlsZQ%3D%3D?line=2'>3</a>\u001b[0m num_classes \u001b[39m=\u001b[39m \u001b[39mlen\u001b[39m(os\u001b[39m.\u001b[39;49mlistdir(os\u001b[39m.\u001b[39;49mpath\u001b[39m.\u001b[39;49mjoin(data_dir,\u001b[39m'\u001b[39;49m\u001b[39mtrain\u001b[39;49m\u001b[39m'\u001b[39;49m)))\n\u001b[0;32m      <a href='vscode-notebook-cell:/c%3A/Users/kimwa/Desktop/MMU/Computer%20Intellegience/Project/processing_backup/train_test_split.ipynb#W3sZmlsZQ%3D%3D?line=3'>4</a>\u001b[0m \u001b[39mprint\u001b[39m(num_classes)\n",
      "\u001b[1;31mFileNotFoundError\u001b[0m: [WinError 3] The system cannot find the path specified: 'c:\\\\Users\\\\kimwa\\\\Desktop\\\\MMU\\\\Computer Intellegience\\\\Project\\\\processing_backup\\\\finalise_dataset\\\\Dataset\\\\train'"
     ]
    }
   ],
   "source": [
    "data_dir = os.path.join(os.getcwd(),'finalise_dataset','Dataset')\n",
    "\n",
    "num_classes = len(os.listdir(os.path.join(data_dir,'train')))\n",
    "print(num_classes)"
   ]
  },
  {
   "cell_type": "code",
   "execution_count": null,
   "id": "70aa9bb5",
   "metadata": {},
   "outputs": [],
   "source": []
  }
 ],
 "metadata": {
  "kernelspec": {
   "display_name": "bob_setup2",
   "language": "python",
   "name": "bob_setup2"
  },
  "language_info": {
   "codemirror_mode": {
    "name": "ipython",
    "version": 3
   },
   "file_extension": ".py",
   "mimetype": "text/x-python",
   "name": "python",
   "nbconvert_exporter": "python",
   "pygments_lexer": "ipython3",
   "version": "3.10.6 | packaged by conda-forge | (main, Oct  7 2022, 20:14:50) [MSC v.1916 64 bit (AMD64)]"
  }
 },
 "nbformat": 4,
 "nbformat_minor": 5
}
