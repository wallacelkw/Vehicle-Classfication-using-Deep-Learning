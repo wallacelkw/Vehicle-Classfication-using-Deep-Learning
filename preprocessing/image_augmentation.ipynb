{
 "cells": [
  {
   "cell_type": "code",
   "execution_count": 1,
   "id": "d91e06b1-9e9a-410d-a0f5-f6142b9fd6ce",
   "metadata": {},
   "outputs": [],
   "source": [
    "from keras.preprocessing.image import ImageDataGenerator\n",
    "from tensorflow.keras.utils import array_to_img, img_to_array, load_img\n",
    "from scipy import ndimage\n",
    "import cv2\n",
    "import os\n",
    "from skimage import io\n",
    "import numpy as np\n",
    "from PIL import Image\n",
    "import tqdm\n",
    "import re\n",
    "import pandas as pd\n",
    "import itertools\n",
    "import time\n",
    "from numba import jit\n",
    "import re\n",
    "from tqdm import tqdm\n",
    "import shutil"
   ]
  },
  {
   "cell_type": "code",
   "execution_count": 2,
   "id": "9d092753-24ae-4b41-af46-14a771a591e3",
   "metadata": {},
   "outputs": [],
   "source": [
    "def sorted_alphanumeric(data):\n",
    "    convert = lambda text: int(text) if text.isdigit() else text.lower()\n",
    "    alphanum_key = lambda key: [ convert(c) for c in re.split('([0-9]+)', key) ] \n",
    "    return sorted(data, key=alphanum_key)\n"
   ]
  },
  {
   "cell_type": "markdown",
   "id": "ab708daf",
   "metadata": {},
   "source": []
  },
  {
   "cell_type": "code",
   "execution_count": 4,
   "id": "6bf5c3de-9507-4505-b40d-9ce19dd26d8a",
   "metadata": {
    "tags": []
   },
   "outputs": [
    {
     "name": "stderr",
     "output_type": "stream",
     "text": [
      "100%|██████████| 6/6 [31:29<00:00, 314.86s/it]\n"
     ]
    }
   ],
   "source": [
    "import cv2\n",
    "path = r\"C:\\Users\\kimwa\\Desktop\\MMU\\Computer Intellegience\\Project\\finalise_dataset\\Dataset\\valid\"\n",
    "\n",
    "train_datagen = ImageDataGenerator( rotation_range=40,\n",
    "                                      shear_range=0.2,\n",
    "                                      zoom_range=0.2,\n",
    "                                      horizontal_flip=True,\n",
    "                                      vertical_flip=True,\n",
    "                                      fill_mode='nearest')\n",
    "\n",
    "images_data = []\n",
    "X_train = []\n",
    "y_train = []\n",
    "for idx, name in enumerate(tqdm(sorted_alphanumeric(os.listdir(path)))):\n",
    "    images = os.path.join(path,name)\n",
    "    temporary_location = os.path.join(os.getcwd(),'temp_folder')\n",
    "    if not os.path.exists(temporary_location):\n",
    "        os.makedirs(temporary_location)\n",
    "    for jidx, image_location in enumerate(os.listdir(images)):\n",
    "        img = load_img(os.path.join(images,image_location))\n",
    "        x = img_to_array(img) \n",
    "        x = x.reshape((1, ) + x.shape)  \n",
    "        i = 0\n",
    "        #  generate 5 new augmented images\n",
    "        try:\n",
    "            for batch in train_datagen.flow(x, batch_size =64, \n",
    "                      save_to_dir =temporary_location,  \n",
    "                      save_prefix ='aug', save_format ='jpg'):\n",
    "                i += 1\n",
    "                if i >5: \n",
    "                    break\n",
    "        except:\n",
    "            pass\n",
    "    \n",
    "    for mov,moving in enumerate(os.listdir(temporary_location)):\n",
    "        shutil.move(os.path.join(temporary_location,moving),images)\n",
    "    os.rmdir(temporary_location)\n",
    "\n",
    "    "
   ]
  },
  {
   "cell_type": "code",
   "execution_count": 19,
   "id": "273c04ad",
   "metadata": {},
   "outputs": [],
   "source": [
    "path = r\"C:\\Users\\kimwa\\Desktop\\MMU\\Computer Intellegience\\Project\\finalise_dataset\\Dataset\"\n",
    "counter = []\n",
    "for i,(root,dir,name) in enumerate(os.walk(path)):\n",
    "    for image in dir:\n",
    "        image_file =os.path.join(root,image)\n",
    "        for idx,imginfo in enumerate(os.listdir(image_file)):\n",
    "            if imginfo.split(\".\")[-1] == \"jpg\":\n",
    "                counter.append(\"Done\")\n",
    "\n"
   ]
  },
  {
   "cell_type": "code",
   "execution_count": 20,
   "id": "050e8f78",
   "metadata": {},
   "outputs": [
    {
     "name": "stdout",
     "output_type": "stream",
     "text": [
      "19083\n"
     ]
    }
   ],
   "source": [
    "print(len(counter))"
   ]
  },
  {
   "cell_type": "code",
   "execution_count": null,
   "id": "0237b2da",
   "metadata": {},
   "outputs": [],
   "source": []
  }
 ],
 "metadata": {
  "kernelspec": {
   "display_name": "tf_venv",
   "language": "python",
   "name": "python3"
  },
  "language_info": {
   "codemirror_mode": {
    "name": "ipython",
    "version": 3
   },
   "file_extension": ".py",
   "mimetype": "text/x-python",
   "name": "python",
   "nbconvert_exporter": "python",
   "pygments_lexer": "ipython3",
   "version": "3.9.15"
  },
  "vscode": {
   "interpreter": {
    "hash": "b8162ba7c013cd9ddc767877ec33c9da0caeeccb389f258d27caf1008f914697"
   }
  }
 },
 "nbformat": 4,
 "nbformat_minor": 5
}
